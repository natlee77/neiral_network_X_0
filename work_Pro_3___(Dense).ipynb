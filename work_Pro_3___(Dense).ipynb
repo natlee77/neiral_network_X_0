{
  "cells": [
    {
      "cell_type": "markdown",
      "metadata": {
        "id": "d_qXycKuUA51"
      },
      "source": [
        "### Exercise"
      ]
    },
    {
      "cell_type": "markdown",
      "metadata": {
        "id": "aUMmCXubUHEb"
      },
      "source": [
        "write a neural network that can become an integral part of the tic-tac-toe bot system. Using the prepared image database, create and train a neural network that recognizes two categories of images: tic and tac toe. Achieve over 95% recognition accuracy (accuracy)\n"
      ]
    },
    {
      "cell_type": "code",
      "execution_count": 49,
      "metadata": {
        "id": "LvOL2h3EdC9y"
      },
      "outputs": [],
      "source": [
        "from tensorflow.keras.models import Sequential \n",
        "from tensorflow.keras.layers import Dense \n",
        "from tensorflow.keras.optimizers import Adam \n",
        "from tensorflow.keras import utils \n",
        "from tensorflow.keras.preprocessing import image\n",
        "import numpy as np\n",
        "import os\n",
        "import matplotlib.pyplot as plt \n",
        "from PIL import Image \n",
        "%matplotlib inline \n",
        "\n",
        "from sklearn.model_selection import train_test_split"
      ]
    },
    {
      "cell_type": "code",
      "execution_count": null,
      "metadata": {
        "colab": {
          "base_uri": "https://localhost:8080/",
          "height": 36
        },
        "id": "lJSH41rM12IE",
        "outputId": "5b228d77-11e6-4aa8-c87b-b14d991d8882"
      },
      "outputs": [],
      "source": [
        "# dataset\n",
        "#import gdown\n",
        "#gdown.download('https://storage.yandexcloud.net/aiueducation/Content/base/l3/hw_pro.zip', None, quiet=True)"
      ]
    },
    {
      "cell_type": "code",
      "execution_count": null,
      "metadata": {
        "id": "5HAhCsCJ1_hJ"
      },
      "outputs": [],
      "source": [
        "#  !unzip -q hw_pro.zip"
      ]
    },
    {
      "cell_type": "code",
      "execution_count": 50,
      "metadata": {
        "colab": {
          "base_uri": "https://localhost:8080/"
        },
        "id": "HhHbCet01zmG",
        "outputId": "cfa64aa9-5581-4650-b4c3-498c2c0bc6c2"
      },
      "outputs": [
        {
          "name": "stdout",
          "output_type": "stream",
          "text": [
            "Размер массива x_train_base (102, 20, 20, 1)\n",
            "Размер массива y_train_base (102,)\n"
          ]
        }
      ],
      "source": [
        "# Путь к директории с базой\n",
        "base_dir = 'hw_pro'\n",
        "# Создание пустого списка для загрузки изображений обучающей выборки\n",
        "x_train = []\n",
        "# Создание списка для меток классов\n",
        "y_train = []\n",
        "# Задание высоты и ширины загружаемых изображений\n",
        "img_height = 20\n",
        "img_width = 20\n",
        "# Перебор папок в директории базы\n",
        "for patch in os.listdir(base_dir):\n",
        "    # Перебор файлов в папках\n",
        "    for img in os.listdir(base_dir + '/' + patch):\n",
        "        # Добавление в список изображений текущей картинки\n",
        "        x_train.append(image.img_to_array(image.load_img(base_dir + '/' + patch + '/' + img,\n",
        "                                                         target_size=(img_height, img_width),\n",
        "                                                         color_mode='grayscale')))\n",
        "        # Добавление в массив меток, соответствующих классам\n",
        "        if patch == '0':\n",
        "            y_train.append(0)\n",
        "        else:\n",
        "            y_train.append(1)\n",
        "# Преобразование в numpy-массив загруженных изображений и меток классов\n",
        "x_train_base= np.array(x_train)          # вход\n",
        "y_train_base = np.array(y_train)          # Вывод  \n",
        "# Вывод размерностей\n",
        "print('Размер массива x_train_base', x_train_base.shape)\n",
        "print('Размер массива y_train_base', y_train_base.shape)"
      ]
    },
    {
      "cell_type": "markdown",
      "metadata": {
        "id": "dq6TSZP_HhIZ"
      },
      "source": [
        "## Data preparation"
      ]
    },
    {
      "cell_type": "code",
      "execution_count": 51,
      "metadata": {
        "id": "RPFRDJJBJ1uw"
      },
      "outputs": [],
      "source": [
        "#Split the data to 70% training and 30% testing\n",
        "x_train_base , x_test_base, y_train_base, y_test_base = train_test_split(x_train_base, y_train_base, test_size=0.3)"
      ]
    },
    {
      "cell_type": "code",
      "execution_count": 52,
      "metadata": {
        "colab": {
          "base_uri": "https://localhost:8080/"
        },
        "id": "A8d-hR8Wo-Zx",
        "outputId": "8c77bb87-6146-4803-de4e-0a2a8713a6ae"
      },
      "outputs": [
        {
          "data": {
            "text/plain": [
              "(31, 20, 20, 1)"
            ]
          },
          "execution_count": 52,
          "metadata": {},
          "output_type": "execute_result"
        }
      ],
      "source": [
        "x_test_base.shape"
      ]
    },
    {
      "cell_type": "code",
      "execution_count": 53,
      "metadata": {
        "colab": {
          "base_uri": "https://localhost:8080/"
        },
        "id": "5TwOtEYFpEt9",
        "outputId": "fb601704-03cd-4c26-a762-e5d1626dd4d3"
      },
      "outputs": [
        {
          "data": {
            "text/plain": [
              "(31,)"
            ]
          },
          "execution_count": 53,
          "metadata": {},
          "output_type": "execute_result"
        }
      ],
      "source": [
        "y_test_base.shape"
      ]
    },
    {
      "cell_type": "code",
      "execution_count": 54,
      "metadata": {
        "colab": {
          "base_uri": "https://localhost:8080/"
        },
        "id": "rgXoEh_W_Hfd",
        "outputId": "a5a98b42-828d-45fd-e6b8-8aa433d05aa7"
      },
      "outputs": [
        {
          "name": "stdout",
          "output_type": "stream",
          "text": [
            "Размер массива x_train_v (71, 400)\n",
            "Размер массива x_test_v (31, 400)\n"
          ]
        }
      ],
      "source": [
        "x_train_v = x_train_base.reshape(x_train_base.shape[0], -1)   #transform the image into a simpler form - into a one-dimensional sequence of numbers (vector).\n",
        "x_test_v= x_test_base.reshape(x_test_base.shape[0], -1)   \n",
        "print('Размер массива x_train_v', x_train_v.shape)\n",
        "print('Размер массива x_test_v', x_test_v.shape)"
      ]
    },
    {
      "cell_type": "code",
      "execution_count": 55,
      "metadata": {
        "colab": {
          "base_uri": "https://localhost:8080/"
        },
        "id": "O3SF2mKcCnO3",
        "outputId": "71472cbd-9a26-4a10-f807-a8092dfa7753"
      },
      "outputs": [
        {
          "name": "stdout",
          "output_type": "stream",
          "text": [
            "(71, 400) (31, 400)\n"
          ]
        }
      ],
      "source": [
        "# Normalization of input pictures\n",
        "# Convert x_train to type float32 (floating point numbers) and normalize between 0 and 1\n",
        "x_train_fl = x_train_v.astype('float32') / 255.\n",
        "x_test_fl = x_test_v.astype('float32') / 255.\n",
        "print(x_train_fl.shape, x_test_fl.shape)"
      ]
    },
    {
      "cell_type": "code",
      "execution_count": 56,
      "metadata": {
        "colab": {
          "base_uri": "https://localhost:8080/"
        },
        "id": "wkseH2Pw9NpN",
        "outputId": "86921ddd-d7e3-4af4-a71a-5b8013e96533"
      },
      "outputs": [
        {
          "name": "stdout",
          "output_type": "stream",
          "text": [
            "(71, 2) (31, 2)\n"
          ]
        }
      ],
      "source": [
        " # Set a constant for the number of recognized classes to one hot encoding.\n",
        "CLASS_COUNT = 2  # crosses=1 and zeros=0\n",
        "# Convert responses to one_hot_encoding format\n",
        "y_train_enc = utils.to_categorical(y_train_base, CLASS_COUNT)\n",
        "y_test_enc = utils.to_categorical(y_test_base, CLASS_COUNT)\n",
        "print(y_train_enc.shape, y_test_enc.shape)"
      ]
    },
    {
      "cell_type": "markdown",
      "metadata": {
        "id": "_a6h7Ab3HbR2"
      },
      "source": [
        "##Creation of a neural network"
      ]
    },
    {
      "cell_type": "code",
      "execution_count": 57,
      "metadata": {
        "colab": {
          "base_uri": "https://localhost:8080/"
        },
        "id": "TJLh3F3N2DCD",
        "outputId": "e2b1218a-66c6-48e7-96be-3e2c5a84a5b1"
      },
      "outputs": [
        {
          "name": "stdout",
          "output_type": "stream",
          "text": [
            "Model: \"sequential_1\"\n",
            "_________________________________________________________________\n",
            " Layer (type)                Output Shape              Param #   \n",
            "=================================================================\n",
            " dense_3 (Dense)             (None, 16)                6416      \n",
            "                                                                 \n",
            " dense_4 (Dense)             (None, 8)                 136       \n",
            "                                                                 \n",
            " dense_5 (Dense)             (None, 2)                 18        \n",
            "                                                                 \n",
            "=================================================================\n",
            "Total params: 6,570\n",
            "Trainable params: 6,570\n",
            "Non-trainable params: 0\n",
            "_________________________________________________________________\n"
          ]
        }
      ],
      "source": [
        "model = Sequential()\n",
        "model.add(Dense(16, input_dim=400, activation='relu'))    \n",
        "model.add(Dense(8,activation='relu'))\n",
        "model.add(Dense(CLASS_COUNT, activation='softmax')) \n",
        " \n",
        "\n",
        "\n",
        "model.compile(loss='categorical_crossentropy',optimizer='adam', metrics=['accuracy'])\n",
        "model.summary()"
      ]
    },
    {
      "cell_type": "markdown",
      "metadata": {
        "id": "ZT-LSskJinlx"
      },
      "source": [
        "## Neural network training"
      ]
    },
    {
      "cell_type": "code",
      "execution_count": 59,
      "metadata": {
        "colab": {
          "base_uri": "https://localhost:8080/"
        },
        "id": "OtGOThG3ivEe",
        "outputId": "2a266082-5fec-4fd4-8d01-589c8811d01b"
      },
      "outputs": [
        {
          "name": "stdout",
          "output_type": "stream",
          "text": [
            "Epoch 1/25\n",
            "1/1 [==============================] - 0s 5ms/step - loss: 0.4765 - accuracy: 0.8451\n",
            "Epoch 2/25\n",
            "1/1 [==============================] - 0s 5ms/step - loss: 0.4687 - accuracy: 0.8451\n",
            "Epoch 3/25\n",
            "1/1 [==============================] - 0s 5ms/step - loss: 0.4579 - accuracy: 0.8592\n",
            "Epoch 4/25\n",
            "1/1 [==============================] - 0s 42ms/step - loss: 0.4457 - accuracy: 0.8592\n",
            "Epoch 5/25\n",
            "1/1 [==============================] - 0s 4ms/step - loss: 0.4358 - accuracy: 0.9155\n",
            "Epoch 6/25\n",
            "1/1 [==============================] - 0s 4ms/step - loss: 0.4279 - accuracy: 0.8873\n",
            "Epoch 7/25\n",
            "1/1 [==============================] - 0s 18ms/step - loss: 0.4190 - accuracy: 0.8873\n",
            "Epoch 8/25\n",
            "1/1 [==============================] - 0s 4ms/step - loss: 0.4084 - accuracy: 0.8873\n",
            "Epoch 9/25\n",
            "1/1 [==============================] - 0s 11ms/step - loss: 0.3971 - accuracy: 0.9155\n",
            "Epoch 10/25\n",
            "1/1 [==============================] - 0s 4ms/step - loss: 0.3876 - accuracy: 0.9296\n",
            "Epoch 11/25\n",
            "1/1 [==============================] - 0s 6ms/step - loss: 0.3795 - accuracy: 0.9437\n",
            "Epoch 12/25\n",
            "1/1 [==============================] - 0s 4ms/step - loss: 0.3709 - accuracy: 0.9437\n",
            "Epoch 13/25\n",
            "1/1 [==============================] - 0s 3ms/step - loss: 0.3608 - accuracy: 0.9437\n",
            "Epoch 14/25\n",
            "1/1 [==============================] - 0s 4ms/step - loss: 0.3506 - accuracy: 0.9577\n",
            "Epoch 15/25\n",
            "1/1 [==============================] - 0s 4ms/step - loss: 0.3415 - accuracy: 0.9577\n",
            "Epoch 16/25\n",
            "1/1 [==============================] - 0s 4ms/step - loss: 0.3333 - accuracy: 0.9577\n",
            "Epoch 17/25\n",
            "1/1 [==============================] - 0s 4ms/step - loss: 0.3247 - accuracy: 0.9577\n",
            "Epoch 18/25\n",
            "1/1 [==============================] - 0s 4ms/step - loss: 0.3155 - accuracy: 0.9718\n",
            "Epoch 19/25\n",
            "1/1 [==============================] - 0s 4ms/step - loss: 0.3064 - accuracy: 0.9718\n",
            "Epoch 20/25\n",
            "1/1 [==============================] - 0s 6ms/step - loss: 0.2981 - accuracy: 0.9718\n",
            "Epoch 21/25\n",
            "1/1 [==============================] - 0s 3ms/step - loss: 0.2902 - accuracy: 0.9718\n",
            "Epoch 22/25\n",
            "1/1 [==============================] - 0s 6ms/step - loss: 0.2820 - accuracy: 0.9859\n",
            "Epoch 23/25\n",
            "1/1 [==============================] - 0s 3ms/step - loss: 0.2736 - accuracy: 0.9859\n",
            "Epoch 24/25\n",
            "1/1 [==============================] - 0s 4ms/step - loss: 0.2655 - accuracy: 0.9859\n",
            "Epoch 25/25\n",
            "1/1 [==============================] - 0s 6ms/step - loss: 0.2580 - accuracy: 1.0000\n"
          ]
        },
        {
          "data": {
            "text/plain": [
              "<keras.callbacks.History at 0x15f2932d400>"
            ]
          },
          "execution_count": 59,
          "metadata": {},
          "output_type": "execute_result"
        }
      ],
      "source": [
        "model.fit(x_train_fl,        # training sample, input data\n",
        "          y_train_enc,       # training set, output\n",
        "          batch_size=128, # number of examples that the neuron processes before one weight change\n",
        "          epochs=25,      # the number of epochs when the neuron is trained on all examples of the sample\n",
        "          verbose=1          )      # 0 - do not visualize learning progress, 1 - visualize"
      ]
    },
    {
      "cell_type": "code",
      "execution_count": 60,
      "metadata": {
        "id": "mShryDXpmrwt"
      },
      "outputs": [],
      "source": [
        "#save the weights of your model\n",
        "model.save_weights('model.h5')\n",
        "model.load_weights('model.h5')"
      ]
    },
    {
      "cell_type": "markdown",
      "metadata": {
        "id": "fn56wWa2myH4"
      },
      "source": [
        "## Handwriting recognition X, 0:"
      ]
    },
    {
      "cell_type": "code",
      "execution_count": 61,
      "metadata": {
        "colab": {
          "base_uri": "https://localhost:8080/"
        },
        "id": "Z898MRJutKPv",
        "outputId": "271674f3-f641-42bf-eb42-c7dd4a014e20"
      },
      "outputs": [
        {
          "name": "stdout",
          "output_type": "stream",
          "text": [
            "(71, 20, 20) (31, 20, 20)\n"
          ]
        }
      ],
      "source": [
        "x_train_base=np.reshape(x_train_base,(x_train_base.shape[0],x_train_base.shape[1],-1))\n",
        "x_test_base=np.reshape(x_test_base,(x_test_base.shape[0],x_test_base.shape[1],-1))\n",
        "print(x_train_base.shape,x_test_base.shape)"
      ]
    },
    {
      "cell_type": "code",
      "execution_count": 62,
      "metadata": {
        "colab": {
          "base_uri": "https://localhost:8080/",
          "height": 265
        },
        "id": "hEam9wvQm-e9",
        "outputId": "f7263862-59e6-4b0b-d04d-dfe39e5801ea"
      },
      "outputs": [
        {
          "data": {
            "image/png": "[encoded data removed]",
            "text/plain": [
              "<Figure size 432x288 with 1 Axes>"
            ]
          },
          "metadata": {
            "needs_background": "light"
          },
          "output_type": "display_data"
        }
      ],
      "source": [
        "\n",
        "#   test to recognize\n",
        "n_rec = np.random.randint(x_test_base.shape[0])\n",
        "\n",
        "# Displaying a picture from the test set under the number n_rec\n",
        "plt.imshow(x_test_base[n_rec], cmap='gray')\n",
        "plt.show()"
      ]
    },
    {
      "cell_type": "code",
      "execution_count": 63,
      "metadata": {
        "colab": {
          "base_uri": "https://localhost:8080/"
        },
        "id": "HrEZpIDGuIzh",
        "outputId": "205a4296-35ac-4775-dbe6-44701b2d1a8c"
      },
      "outputs": [
        {
          "name": "stdout",
          "output_type": "stream",
          "text": [
            "(400,)\n"
          ]
        }
      ],
      "source": [
        "#Selecting the desired image from the test sample\n",
        "x = x_test_fl[n_rec]\n",
        "\n",
        "# Data Form Validation\n",
        "print(x.shape)"
      ]
    },
    {
      "cell_type": "code",
      "execution_count": 64,
      "metadata": {
        "colab": {
          "base_uri": "https://localhost:8080/"
        },
        "id": "8CrAFqH8vFqD",
        "outputId": "0ac7f695-3472-40a9-b0e9-6821d50a768d"
      },
      "outputs": [
        {
          "name": "stdout",
          "output_type": "stream",
          "text": [
            "(1, 400)\n"
          ]
        }
      ],
      "source": [
        "# Adding one axis at the beginning so that the neuron can recognize the example\n",
        "# An array of one example, since the neuron accepts exactly arrays of examples (batches) for recognition\n",
        "x = np.expand_dims(x, axis=0)\n",
        "\n",
        "# Data form validation\n",
        "print(x.shape)"
      ]
    },
    {
      "cell_type": "code",
      "execution_count": 65,
      "metadata": {
        "id": "mgSmpE_yvPUH"
      },
      "outputs": [],
      "source": [
        "  #Example recognition\n",
        "  # crosses=1 and zeros=0\n",
        "prediction = model.predict(x) "
      ]
    },
    {
      "cell_type": "code",
      "execution_count": 66,
      "metadata": {
        "colab": {
          "base_uri": "https://localhost:8080/"
        },
        "id": "DmBC60cOvTrd",
        "outputId": "9ec30066-ad96-4480-c5a3-6c146c9d8a01"
      },
      "outputs": [
        {
          "name": "stdout",
          "output_type": "stream",
          "text": [
            "[[0.66543657 0.33456337]]\n"
          ]
        }
      ],
      "source": [
        "# The output of the result is a vector of 2 numbers\n",
        "print(prediction)"
      ]
    },
    {
      "cell_type": "code",
      "execution_count": 67,
      "metadata": {
        "colab": {
          "base_uri": "https://localhost:8080/"
        },
        "id": "oa4n5is0w_-F",
        "outputId": "8f4d0b74-a437-4ef1-cf1f-c921f3307bbd"
      },
      "outputs": [
        {
          "name": "stdout",
          "output_type": "stream",
          "text": [
            "Recognized : 0\n"
          ]
        }
      ],
      "source": [
        "# Get and print the index of the largest element (this is the value of the digit that the network recognized)\n",
        "pred = np.argmax(prediction)\n",
        "print(f'Recognized : {pred}')"
      ]
    }
  ],
  "metadata": {
    "accelerator": "GPU",
    "colab": {
      "collapsed_sections": [],
      "provenance": []
    },
    "kernelspec": {
      "display_name": "Python 3.8.10 64-bit",
      "language": "python",
      "name": "python3"
    },
    "language_info": {
      "codemirror_mode": {
        "name": "ipython",
        "version": 3
      },
      "file_extension": ".py",
      "mimetype": "text/x-python",
      "name": "python",
      "nbconvert_exporter": "python",
      "pygments_lexer": "ipython3",
      "version": "3.8.10"
    },
    "vscode": {
      "interpreter": {
        "hash": "1ec8c1a056610f9e2b425ecee72ab231842da7af27317589820e05cd48a3390e"
      }
    }
  },
  "nbformat": 4,
  "nbformat_minor": 0
}
